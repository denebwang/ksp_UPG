{
 "cells": [
  {
   "cell_type": "code",
   "execution_count": 1,
   "metadata": {},
   "outputs": [],
   "source": [
    "import time\n",
    "import logging\n",
    "\n",
    "import krpc\n",
    "import numpy as np\n",
    "from IPython.display import clear_output\n",
    "\n",
    "from UPG import UPG, Status\n",
    "import utils\n",
    "import Apollo\n"
   ]
  },
  {
   "cell_type": "code",
   "execution_count": 2,
   "metadata": {},
   "outputs": [],
   "source": [
    "conn = krpc.connect()\n",
    "space_center = conn.space_center\n",
    "vessel = space_center.active_vessel\n",
    "ap = vessel.auto_pilot\n",
    "body = vessel.orbit.body\n",
    "body_frame = body.reference_frame\n",
    "flight = vessel.flight(body_frame)\n",
    "\n",
    "# body constants\n",
    "r_e = body.equatorial_radius\n",
    "g_0 = body.surface_gravity"
   ]
  },
  {
   "cell_type": "code",
   "execution_count": 3,
   "metadata": {},
   "outputs": [],
   "source": [
    "lon = -60.0\n",
    "lat = 0.0\n",
    "final_velocity = 3.    # The target velocity for UPG. Note that is this not the touch down velocity.\n",
    "final_height = 50. # The target height above target when upg ends.\n",
    "final_acc = 1\n",
    "min_throttle = 0.1  # Minimum throttle. This must be exactly equal to your engine's min throttle.\n",
    "t_1 = 10.    # First burn time, in secondes.\n",
    "rated_burn_time = 960   # Engine's rated burn time, or the time you want to burn at most.\n",
    "\n",
    "\n",
    "# if you find your craft turning too slow, alter the following values.\n",
    "ap.stopping_time = (.9, .9, .9)\n",
    "# ap.deceleration_time = (3., 3., 3.)\n",
    "ap.attenuation_angle = (0.5, 0.5, 0.5)"
   ]
  },
  {
   "cell_type": "code",
   "execution_count": 4,
   "metadata": {},
   "outputs": [],
   "source": [
    "# target vector, with final height added.\n",
    "target_height = body.surface_height(lat, lon)\n",
    "r_target = utils.vector(body.position_at_altitude(\n",
    "    lat, lon, target_height + final_height, body_frame))\n",
    "\n",
    "# target reference frame.\n",
    "target_frame = utils.target_reference_frame(space_center, body, lat, lon)\n",
    "# get final velocity and up vector in body frame\n",
    "up = r_target / np.linalg.norm(r_target)\n",
    "v_target = -final_velocity * up\n",
    "\n",
    "# draw the target\n",
    "line = conn.drawing.add_line((0., 0., 0.), (20., 0., 0.), target_frame)\n",
    "line.thickness = 2"
   ]
  },
  {
   "cell_type": "code",
   "execution_count": 5,
   "metadata": {},
   "outputs": [],
   "source": [
    "vacuum_specific_impulse = conn.add_stream(getattr, vessel,\n",
    "                                          'vacuum_specific_impulse')\n",
    "max_thrust = conn.add_stream(getattr, vessel, 'available_thrust')\n",
    "current_thrust = conn.add_stream(getattr, vessel, 'thrust')\n",
    "mass = conn.add_stream(getattr, vessel, 'mass')\n",
    "situation = conn.add_stream(getattr, vessel, 'situation')\n",
    "ut = conn.add_stream(getattr, space_center, 'ut')\n",
    "height = conn.add_stream(getattr, flight, 'surface_altitude')\n",
    "mean_altitude = conn.add_stream(getattr, flight, 'mean_altitude')\n",
    "speed = conn.add_stream(getattr, flight, 'speed')\n",
    "vertical_speed = conn.add_stream(getattr, flight, 'vertical_speed')\n",
    "velocity = conn.add_stream(vessel.velocity, body_frame)\n",
    "position = conn.add_stream(vessel.position, body_frame)"
   ]
  },
  {
   "cell_type": "code",
   "execution_count": 6,
   "metadata": {},
   "outputs": [
    {
     "name": "stdout",
     "output_type": "stream",
     "text": [
      "Initiating UPG\n",
      "Evaluating t2...\n",
      "Terminate program if it stucks at solving t_2.\n"
     ]
    }
   ],
   "source": [
    "# get initial values\n",
    "v_0 = utils.vector(velocity())\n",
    "r_0 = utils.vector(position())\n",
    "# initial guess\n",
    "pv = -v_0 / np.linalg.norm(v_0)\n",
    "pr = np.zeros((3, 1))\n",
    "t_f = np.array([[rated_burn_time]]) / 2\n",
    "\n",
    "print(\"Initiating UPG\")\n",
    "upg = UPG(r_0=r_e, g_0=g_0, r_target=r_target, v_target=v_target, r_t=r_0, v_t=v_0,\n",
    "    mass=mass(), max_thrust=max_thrust(), min_throttle=min_throttle, \n",
    "    specific_impulse=vacuum_specific_impulse(), k=0., t_0=ut(), t_1=t_1, p_r_0=pr, p_v_0=pv,\n",
    "    t_f=t_f, t_2_bound=[5, rated_burn_time / 20.])\n",
    "\n",
    "print(\"Evaluating t2...\")\n",
    "upg.solve_t_2()\n"
   ]
  },
  {
   "cell_type": "code",
   "execution_count": 7,
   "metadata": {},
   "outputs": [
    {
     "name": "stdout",
     "output_type": "stream",
     "text": [
      "APDG disengaged\n",
      "landed!\n",
      "Landing precision: 5.93m\n"
     ]
    }
   ],
   "source": [
    "# PDI determination\n",
    "print(\"Waiting for powered descent initial\")\n",
    "ap.reference_frame = body_frame\n",
    "ap.engage()\n",
    "guidance_interval = 0.1\n",
    "\n",
    "\n",
    "\n",
    "\n",
    "while True:\n",
    "    v_0 = utils.vector(velocity())\n",
    "    r_0 = utils.vector(position())\n",
    "    \n",
    "    if upg.status == Status.PDI:\n",
    "        upg.update_state(r_t=r_0, v_t=v_0, mass=mass(),\n",
    "               max_thrust=max_thrust(), t_0=ut())\n",
    "        upg.update_start_time(ut())\n",
    "        upg.solve(mode='soft')\n",
    "        r_guidance = utils.downrange(r_0, upg.r_final, body, body_frame)\n",
    "        r_togo = utils.downrange(r_0, r_target, body, body_frame)\n",
    "        print(\"guidance downrange: {0:,.2f}m, target downrange: {1:,.2f}m\"\n",
    "            .format(r_guidance, r_togo))\n",
    "        ap.target_direction = upg.thrust_direction\n",
    "        # start descent when overshoot the target with margin of 1km.\n",
    "        if r_guidance > r_togo + 1000.:\n",
    "            print(\"descent start!\")\n",
    "            upg.status = Status.Powered_descent\n",
    "            t_f = 1.2 * upg.t_f\n",
    "            t_f = t_f + ut()    # convert to ut\n",
    "            apdg = Apollo.APDG(r_target, final_velocity, final_acc, t_f, ut(), up, mass(), r_0, v_0, g_0, 8.)\n",
    "            continue\n",
    "        \n",
    "\n",
    "    elif upg.status == Status.Powered_descent:\n",
    "        apdg.update(r_0, v_0, mass(), ut())\n",
    "        apdg.compute()\n",
    "\n",
    "        vessel.control.throttle = utils.thrust2throttle(\n",
    "        apdg.thrust, max_thrust(), min_throttle)\n",
    "        ap.target_direction = apdg.thrust_direction\n",
    "\n",
    "        print(\"t_go: {:.2f} s\".format(apdg.t_go), end=' ')\n",
    "        r_go = np.linalg.norm(r_target - r_0)\n",
    "        print(\"distance to land: {:,.2f} m\".format(r_go))\n",
    "        print(\"thrust error: {:.2f} kN\".format((vessel.thrust - apdg.thrust) / 1e3))\n",
    "        print(\"AP direction error {:.2f}\".format(ap.error))\n",
    "\n",
    "        clear_output(wait=True)\n",
    "        if apdg.t_go < 0.5 or r_go < 10 or height() < 100:\n",
    "            print(\"APDG disengaged\")\n",
    "            break\n",
    "    clear_output(wait=True)\n",
    "    time.sleep(guidance_interval)\n",
    "\n",
    "while True:\n",
    "    ap.target_direction = tuple(-i for i in velocity())\n",
    "    \n",
    "    vs = vertical_speed()\n",
    "    spd = speed()\n",
    "    sin_g = vs/spd\n",
    "    h = mean_altitude()\n",
    "    a_t = - (1. / sin_g) * (((final_velocity ** 2 - vs ** 2)/ (2 * (target_height - h))) + g_0)\n",
    "    vessel.control.throttle = utils.thrust2throttle(\n",
    "        mass() * a_t, max_thrust(), min_throttle)\n",
    "    if situation() == space_center.VesselSituation.landed \\\n",
    "            or situation() == space_center.VesselSituation.splashed\\\n",
    "            or vertical_speed() > -0.5:\n",
    "        print(\"landed!\")\n",
    "        break\n",
    "ap.disengage()\n",
    "vessel.control.throttle = 0.\n",
    "\n",
    "r_0 = utils.vector(position())\n",
    "target_height = body.surface_height(lat, lon)\n",
    "r_target = utils.vector(body.position_at_altitude(\n",
    "    lat, lon, target_height, body_frame))\n",
    "print(\"Landing precision: {:.2f}m\".format(utils.downrange(r_0, r_target, body, body_frame)))\n"
   ]
  }
 ],
 "metadata": {
  "interpreter": {
   "hash": "fa946dd8a84ef721b29d25bcaad76caa19587795bb861b48de48f9fd4f74e74d"
  },
  "kernelspec": {
   "display_name": "Python 3.8.8 ('ksp_land')",
   "language": "python",
   "name": "python3"
  },
  "language_info": {
   "codemirror_mode": {
    "name": "ipython",
    "version": 3
   },
   "file_extension": ".py",
   "mimetype": "text/x-python",
   "name": "python",
   "nbconvert_exporter": "python",
   "pygments_lexer": "ipython3",
   "version": "3.8.8"
  },
  "orig_nbformat": 4
 },
 "nbformat": 4,
 "nbformat_minor": 2
}
