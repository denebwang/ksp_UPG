{
 "cells": [
  {
   "cell_type": "markdown",
   "metadata": {},
   "source": [
    "## Welcome to the Unified Powered Guidance for landing!\n",
    "This notebook will guide you to perform a bolza landing, that is, just land near the target location rather than precisely on the target.  \n",
    "If you just want to land without getting deeper in the algorithm, just fill the parameters in cell 3 and run all cells.  \n",
    "First, let's import the packages."
   ]
  },
  {
   "cell_type": "code",
   "execution_count": 1,
   "metadata": {},
   "outputs": [],
   "source": [
    "import time\n",
    "import logging\n",
    "\n",
    "import krpc\n",
    "import numpy as np\n",
    "from IPython.display import clear_output\n",
    "\n",
    "from UPG import UPG, Status\n",
    "import utils\n",
    "import Apollo\n"
   ]
  },
  {
   "cell_type": "markdown",
   "metadata": {},
   "source": [
    "Next, we will need to build up telemetry for the landing craft."
   ]
  },
  {
   "cell_type": "code",
   "execution_count": 2,
   "metadata": {},
   "outputs": [],
   "source": [
    "conn = krpc.connect()\n",
    "space_center = conn.space_center\n",
    "vessel = space_center.active_vessel\n",
    "ap = vessel.auto_pilot\n",
    "body = vessel.orbit.body\n",
    "body_frame = body.reference_frame\n",
    "flight = vessel.flight(body_frame)\n",
    "\n",
    "# body constants\n",
    "r_e = body.equatorial_radius\n",
    "g_0 = body.surface_gravity"
   ]
  },
  {
   "cell_type": "markdown",
   "metadata": {},
   "source": [
    "Then, specify the landing parameters. The coefficient `k`  decides the precision of the landing. Set it to 0 means you don't care about the precision, and the craft will just land at some place around the target. Basically, the bigger `k` means more fuel and the better landing precision."
   ]
  },
  {
   "cell_type": "code",
   "execution_count": 3,
   "metadata": {},
   "outputs": [],
   "source": [
    "lon = -60.0\n",
    "lat = 0.0\n",
    "final_velocity = 5.    # The target velocity for UPG. Note that is this not the touch down velocity.\n",
    "final_height = 10. # The target height above target when upg ends.\n",
    "min_throttle = 0.1  # Minimum throttle. This must be exactly equal to your engine's min throttle.\n",
    "# min_thrust = 0.\n",
    "k = 500.   # Coefficient for bolza landing.\n",
    "t_1 = 10.    # First burn time, in secondes.\n",
    "rated_burn_time = 800   # Engine's rated burn time, or the time you want to burn at most.\n",
    "\n",
    "mode = ['bolza', 'pinpoint'][1]\n",
    "\n",
    "# if you find your craft turning too slow, alter the following values.\n",
    "ap.stopping_time = (.9, .9, .9)\n",
    "# ap.deceleration_time = (3., 3., 3.)\n",
    "ap.attenuation_angle = (0.8, 0.8, 0.8)"
   ]
  },
  {
   "cell_type": "markdown",
   "metadata": {},
   "source": [
    "Next we will build a target frame whose origin is the target location, and acquire some useful vectors."
   ]
  },
  {
   "cell_type": "code",
   "execution_count": 4,
   "metadata": {},
   "outputs": [],
   "source": [
    "# target vector, with final height added.\n",
    "target_height = body.surface_height(lat, lon)\n",
    "r_target = utils.vector(body.position_at_altitude(\n",
    "    lat, lon, target_height + final_height, body_frame))\n",
    "\n",
    "# target reference frame.\n",
    "target_frame = utils.target_reference_frame(space_center, body, lat, lon)\n",
    "# get final velocity and up vector in body frame\n",
    "up = r_target / np.linalg.norm(r_target)\n",
    "v_target = -final_velocity * up\n",
    "\n",
    "# draw the target\n",
    "line = conn.drawing.add_line((0., 0., 0.), (20., 0., 0.), target_frame)\n",
    "line.thickness = 2"
   ]
  },
  {
   "cell_type": "markdown",
   "metadata": {},
   "source": [
    "...And the data streams to continuously send data to the program."
   ]
  },
  {
   "cell_type": "code",
   "execution_count": 5,
   "metadata": {},
   "outputs": [],
   "source": [
    "vacuum_specific_impulse = conn.add_stream(getattr, vessel,\n",
    "                                          'vacuum_specific_impulse')\n",
    "max_thrust = conn.add_stream(getattr, vessel, 'available_thrust')\n",
    "current_thrust = conn.add_stream(getattr, vessel, 'thrust')\n",
    "mass = conn.add_stream(getattr, vessel, 'mass')\n",
    "situation = conn.add_stream(getattr, vessel, 'situation')\n",
    "ut = conn.add_stream(getattr, space_center, 'ut')\n",
    "height = conn.add_stream(getattr, flight, 'surface_altitude')\n",
    "mean_altitude = conn.add_stream(getattr, flight, 'mean_altitude')\n",
    "speed = conn.add_stream(getattr, flight, 'speed')\n",
    "velocity = conn.add_stream(vessel.velocity, body_frame)\n",
    "position = conn.add_stream(vessel.position, body_frame)"
   ]
  },
  {
   "cell_type": "markdown",
   "metadata": {},
   "source": [
    "Now it's time to set up the guidance program."
   ]
  },
  {
   "cell_type": "code",
   "execution_count": 6,
   "metadata": {},
   "outputs": [
    {
     "name": "stdout",
     "output_type": "stream",
     "text": [
      "Initiating UPG\n",
      "Evaluating t2...\n",
      "Terminate program if it stucks at solving t_2.\n",
      "Optimal t2: 379.73 s\n"
     ]
    }
   ],
   "source": [
    "# get initial values\n",
    "v_0 = utils.vector(velocity())\n",
    "r_0 = utils.vector(position())\n",
    "# initial guess\n",
    "pv = -v_0 / np.linalg.norm(v_0)\n",
    "pr = np.zeros((3, 1))\n",
    "t_f = np.array([[rated_burn_time]]) / 2\n",
    "\n",
    "print(\"Initiating UPG\")\n",
    "upg = UPG(r_0=r_e, g_0=g_0, r_target=r_target, v_target=v_target, r_t=r_0, v_t=v_0,\n",
    "    mass=mass(), max_thrust=max_thrust(), min_throttle=min_throttle, \n",
    "    specific_impulse=vacuum_specific_impulse(), k=k, t_0=ut(), t_1=t_1, p_r_0=pr, p_v_0=pv,\n",
    "    t_f=t_f, t_2_bound=[5, rated_burn_time / 2])\n",
    "\n",
    "print(\"Evaluating t2...\")\n",
    "upg.solve_t_2()\n",
    "print(\"Optimal t2: {:.2f} s\".format(upg.get_t_2))\n",
    "\n",
    "logging.basicConfig(filename='upg.log',\n",
    "                    filemode='w',\n",
    "                    format='%(asctime)s,%(msecs)d %(name)s %(levelname)s %(message)s',\n",
    "                    datefmt='%H:%M:%S',\n",
    "                    level=logging.INFO)"
   ]
  },
  {
   "cell_type": "markdown",
   "metadata": {},
   "source": [
    "We have initialize the UPG, now just wait until it's time to start descent. This is done by continuously solving soft landing and check if the final location is at the target.\n",
    "\n",
    "To ensure guidance precision, the next phase is also included in this cell. It will"
   ]
  },
  {
   "cell_type": "code",
   "execution_count": 7,
   "metadata": {},
   "outputs": [
    {
     "name": "stdout",
     "output_type": "stream",
     "text": [
      "APDG disengaged\n",
      "landed!\n",
      "Landing precision: 5.57m\n"
     ]
    }
   ],
   "source": [
    "# PDI determination\n",
    "print(\"Waiting for powered descent initial\")\n",
    "ap.reference_frame = body_frame\n",
    "ap.engage()\n",
    "guidance_interval = 0.25\n",
    "\n",
    "\n",
    "while True:\n",
    "    v_0 = utils.vector(velocity())\n",
    "    r_0 = utils.vector(position())\n",
    "    upg.update_state(r_t=r_0, v_t=v_0, mass=mass(),\n",
    "               max_thrust=max_thrust(), t_0=ut())\n",
    "    if upg.status == Status.PDI:\n",
    "        upg.update_start_time(ut())\n",
    "        upg.solve(mode='soft')\n",
    "        r_guidance = utils.downrange(r_0, upg.r_final, body, body_frame)\n",
    "        r_togo = utils.downrange(r_0, r_target, body, body_frame)\n",
    "        print(\"guidance downrange: {0:,.2f}m, target downrange: {1:,.2f}m\"\n",
    "            .format(r_guidance, r_togo))\n",
    "        # start descent when overshoot the target with margin of 1km.\n",
    "        if r_guidance > r_togo + 1000.:\n",
    "            print(\"UPG engaged\")\n",
    "            upg.status = Status.Powered_descent\n",
    "            continue\n",
    "        # the direction of soft landing may be different from the bolza one. slove the bolza problem again to give the correct direction.\n",
    "        upg.solve(mode=mode)\n",
    "\n",
    "    elif upg.status == Status.Powered_descent:\n",
    "        upg.solve(mode=mode)\n",
    "        t_1_go = upg.t_1_go\n",
    "        t_2_go = upg.t_2_go\n",
    "        distance = np.linalg.norm(r_0 - upg.r_final)\n",
    "        v_go = upg.v_go\n",
    "        print(\"t_togo: {:.2f} s\".format(upg.t_f), end=\", \")\n",
    "        if t_1_go > 0:\n",
    "            print(\"{:.2f} s to throttle back\".format(t_1_go))\n",
    "        elif t_2_go > 0:\n",
    "            print(\"{:.2f} s to full throttle\".format(t_2_go))\n",
    "\n",
    "        print(\"distance: {:,.2f} m\".format(distance), end=\", \")\n",
    "        print(\"v_togo: {:,.2f} m/s\".format(v_go), end=\", \")\n",
    "        print(\"Landing error: {:.2f} m\".format(np.linalg.norm(upg.r_final - r_target)))\n",
    "        print(\"Convergence: \" + str(upg.convergence) + \" norm: {}\".format(upg.norm))\n",
    "        if not upg.convergence:\n",
    "            print(\"Last convergence: {:.2f} s ago\".format(upg.last_convergence))\n",
    "            print(\"Last error: \" + upg.last_err_msg)\n",
    "            logging.info(\"Failed to converge, the results are:\\n\" + str(upg.fun))\n",
    "        # correct target to the correct height as the distance to target could be large.\n",
    "        if k == 0.:\n",
    "            r_target = utils.move_position2height(\n",
    "                final_height, upg.r_final, body, body_frame)\n",
    "            up = r_target / np.linalg.norm(r_target)\n",
    "            v_target = -final_velocity * up\n",
    "            upg.set_target(r_target, v_target)\n",
    "\n",
    "        vessel.control.throttle = upg.throttle\n",
    "        downrange = utils.downrange(r_0, r_target, body, body_frame)\n",
    "        print(\"{:,.2f} m to terminal guidance\".format(downrange - 3000))\n",
    "        if downrange < 3000. or upg.t_f < 60.:\n",
    "            print(\"UPG disengaged\")\n",
    "            break\n",
    "        if upg.last_convergence > 30.:\n",
    "            if mode == 'pinpoint':\n",
    "                mode = 'bolza'\n",
    "            else:\n",
    "                break\n",
    "    ap.target_direction = upg.thrust_direction\n",
    "    clear_output(wait=True)\n",
    "    time.sleep(guidance_interval)\n",
    "\n",
    "# terminal guidance: use apollo guidance algorithm.\n",
    "# change target to ground\n",
    "if k != 0. or mode == 'pinpoint':\n",
    "    r_target = utils.vector(body.position_at_altitude(\n",
    "        lat, lon, body.surface_height(lat, lon) + final_height, body_frame))\n",
    "if k == 0. or np.arctan2((mean_altitude() - target_height), utils.downrange(r_target, upg.r_final, body, body_frame)) <\\\n",
    "    np.arcsin(-flight.vertical_speed / speed()):\n",
    "# make another landing frame with the predicted final location\n",
    "    r_target = utils.move_position2height(\n",
    "        final_height , upg.r_final, body, body_frame)\n",
    "    up = r_target / np.linalg.norm(r_target)\n",
    "    lat = body.latitude_at_position(tuple(r_target.flatten()), body_frame)\n",
    "    lon = body.longitude_at_position(tuple(r_target.flatten()), body_frame)\n",
    "    target_height = body.surface_height(lat, lon)\n",
    "    target_frame = utils.target_reference_frame(space_center, body, lat, lon)\n",
    "    line = conn.drawing.add_line((0., 0., 0.), (20., 0., 0.), target_frame)\n",
    "    line.thickness = 3\n",
    "\n",
    "a_f = 1.5# final acceleration 2g(g with respect to body)\n",
    "v_f = 3.   # touch down velocity.\n",
    "\n",
    "# calculate t_go\n",
    "v_0 = speed()\n",
    "sin_gamma = flight.vertical_speed / v_0\n",
    "h_0 = mean_altitude() - target_height\n",
    "a_t = Apollo.a_t(v_0, sin_gamma, h_0, g_0)\n",
    "t_f = Apollo.t_togo(v_0, sin_gamma, a_t, g_0)\n",
    "t_f = 1.1 * upg.t_f\n",
    "print('tgo: {:.2f}'.format(t_f))\n",
    "t_f = t_f + ut()    # convert to ut\n",
    "apdg = Apollo.APDG(r_target, v_f, a_f, t_f, ut(), up, mass(), r_0, v_0, g_0, 8.)\n",
    "print(\"Terminal guidance engaged\")\n",
    "while True:\n",
    "    v_0 = utils.vector(velocity())\n",
    "    r_0 = utils.vector(position())\n",
    "    apdg.update(r_0, v_0, mass(), ut())\n",
    "    apdg.compute()\n",
    "\n",
    "    vessel.control.throttle = utils.thrust2throttle(\n",
    "    apdg.thrust, max_thrust(), min_throttle)\n",
    "    ap.target_direction = apdg.thrust_direction\n",
    "\n",
    "    print(\"t_go: {:.2f}\".format(apdg.t_go), end=' ')\n",
    "    r_go = np.linalg.norm(r_target - r_0)\n",
    "    print(\"distance to land: {:.2f}\".format(r_go))\n",
    "    print(\"thrust error: {:.2f} kN\".format((vessel.thrust - apdg.thrust) / 1e3))\n",
    "\n",
    "    print('AP pitch:{0:2f} AP heading:{1:.2f}'\n",
    "          .format(ap.target_pitch, ap.target_heading))\n",
    "    print('pitch:{0:2f} heading:{1:.2f}'\n",
    "          .format(flight.pitch, flight.heading))\n",
    "    print(\"AP direction error {:.2f}\".format(ap.error))\n",
    "    \n",
    "    clear_output(wait=True)\n",
    "    if apdg.t_go < 0.5 or r_go < 10 or height() < 10:\n",
    "        print(\"APDG disengaged\")\n",
    "        break\n",
    "    \n",
    "    time.sleep(guidance_interval)\n",
    "\n",
    "# constant descent\n",
    "ap.target_direction = tuple(up.flatten())\n",
    "# vessel.control.throttle = utils.thrust2throttle(\n",
    "#     1.1 * mass() * g_0, max_thrust(), min_throttle)\n",
    "\n",
    "\n",
    "while True:\n",
    "    # vessel.control.throttle += 0.005 * (speed() - v_f)\n",
    "    if situation() == space_center.VesselSituation.landed \\\n",
    "            or situation() == space_center.VesselSituation.splashed\\\n",
    "            or flight.vertical_speed > -0.5:\n",
    "        print(\"landed!\")\n",
    "        break\n",
    "ap.disengage()\n",
    "vessel.control.throttle = 0.\n",
    "ap.sas = True\n",
    "\n",
    "r_0 = utils.vector(position())\n",
    "target_height = body.surface_height(lat, lon)\n",
    "r_target = utils.vector(body.position_at_altitude(\n",
    "    lat, lon, target_height, body_frame))\n",
    "print(\"Landing precision: {:.2f}m\".format(np.linalg.norm(r_0 - r_target)))\n"
   ]
  }
 ],
 "metadata": {
  "interpreter": {
   "hash": "fa946dd8a84ef721b29d25bcaad76caa19587795bb861b48de48f9fd4f74e74d"
  },
  "kernelspec": {
   "display_name": "Python 3.8.8 ('ksp_land')",
   "language": "python",
   "name": "python3"
  },
  "language_info": {
   "codemirror_mode": {
    "name": "ipython",
    "version": 3
   },
   "file_extension": ".py",
   "mimetype": "text/x-python",
   "name": "python",
   "nbconvert_exporter": "python",
   "pygments_lexer": "ipython3",
   "version": "3.8.8"
  },
  "orig_nbformat": 4
 },
 "nbformat": 4,
 "nbformat_minor": 2
}
